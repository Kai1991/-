{
 "cells": [
  {
   "cell_type": "markdown",
   "metadata": {},
   "source": [
    "### 大纲\n",
    "\n",
    "* 树模型基础-决策树\n",
    "    * 熵\n",
    "    * 决策树生成算法\n",
    "    * 树模型过拟合处理方式\n",
    "        * 剪枝\n",
    "        * 增益率\n",
    "    * 树的应用场景： 连续函数，多分类，回归\n",
    "* 决策树的进化-Ensemble\n",
    "    * Bagging(投票)\n",
    "    * Random Forest:随机森林\n",
    "    * boosting:\n",
    "        * GBDT\n",
    "        * XGBoost"
   ]
  },
  {
   "cell_type": "markdown",
   "metadata": {},
   "source": [
    "### 决策树\n",
    "\n",
    "* 分制思想\n",
    "\n",
    "##### 熵\n",
    "\n",
    "* 熵：衡量纯洁度的标准\n",
    "* 公式：$H = -\\sum P(x)log(P(x))$\n",
    "* 信息增益 $ Gain(S,A) = 分割前的熵 - 分割后的熵 $\n",
    "* 信息增益比： $ GainR(S,A) = { Gain(S,A) \\over Gain_{splited}(S,A)} $\n",
    "\n",
    "* Gini = $ \\sum P_k(1-P_k) $\n",
    "\n",
    "##### 决策树生成算法\n",
    "\n",
    "* ID3 算法：\n",
    "    * 1. 计算当前样本所有属性的信息增益\n",
    "    * 2. 使用信息增益较大的属性作为分割属性\n",
    "    * 3. 若分割后的样本的标签全部唯一，则终止分割。否则重复第一步\n",
    "* ID3算法存在的问题：\n",
    "    * 可以把N个数据分成N组，这种分割没有意义\n",
    "    * 如果按照日期分割，也是没有意义\n",
    "    \n",
    "* C4.5算法：\n",
    "    * ID3算法的不同：使用信息增益比 作为分割的标准\n",
    "  \n",
    "* CART 算法：\n",
    "    * 使用基尼来判断分割的标准\n",
    "    \n",
    "\n",
    "    \n",
    "##### 树模型过拟合避免手段\n",
    "\n",
    "* 没有必要的分割就不分割\n",
    "* 剪枝\n",
    "* 信息增益存在缺陷，可以使用信息增益率\n",
    "\n",
    "\n",
    "##### 树的应用场景： 连续函数，多分类，回归\n",
    "\n",
    "* 多分类\n",
    "* 回归 \n",
    "* 特征连续"
   ]
  },
  {
   "cell_type": "markdown",
   "metadata": {},
   "source": [
    "### 决策树的模型融合-Ensemble"
   ]
  },
  {
   "cell_type": "markdown",
   "metadata": {},
   "source": [
    "####  Bagging : 投票\n",
    "\n",
    "* 不同的树 看到不同的特征，然后再进行投票\n",
    "\n",
    "#### Random Forerst  随机森林\n",
    "\n",
    "* 在Bagging的基础上，不仅是看到不同的特征，而且看到不同的数据。\n",
    "\n",
    "#### Boosting 提升树 \n",
    "\n",
    "* 步骤\n",
    "    * 1.在原始样本中长出一个树\n",
    "    * 2.在上一课树没有完美分类的数据重新 加权\n",
    "    * 3.用新的加权的数据 重新训练一颗新的树\n",
    "    * 4.最终的结果有加权决定\n",
    "\n",
    "* 例子：\n",
    "    * AdaBoost:\n",
    "        * 1. 使用具有权重分布的训练数据，得到基本的分类器\n",
    "        * 2. 计算分类器在训练数据中的分类误差率\n",
    "            * $ e_m = \\sum w_{m-1}I(G_m(x_i) != y_i)$\n",
    "        * 3. 计算 分类器的系数，目的是：得到基本分类器的权重\n",
    "            * $ a_m = {1 \\over 2} log({ 1-e_m \\over e_m }) $ \n",
    "        * 4. 更新数据的权重\n",
    "        \n",
    "        * 总分类器：G(x) = sign(\\sum a_mG_m(x))\n",
    "        \n",
    "    * GBDT :\n",
    "        * 1.AdaBoost的Regressio版本 计算样本的误差值公式不一样\n",
    "            * $ e_m = \\sum w_{m-1}err(G_m(x_i), y_i)$\n",
    "        * 2.把残差作为下一轮的学习目标\n",
    "        * 3.最终的结果是加权值，不再是简单的投票\n",
    "            * $ G(x) = \\sum a_mG_m(x) $\n",
    "            \n",
    "    * XGBoost\n",
    "        * 本质是GBDT, 但是速度和效率做到极致\n",
    "        * 1. 使用L1,L2正则化 防止过拟合\n",
    "        * 2. 对代价函数一阶二阶函数求导\n",
    "        * 3. 对树进行减值，防止算法贪婪"
   ]
  },
  {
   "cell_type": "markdown",
   "metadata": {},
   "source": [
    "### 实战-1 糖尿病预测"
   ]
  },
  {
   "cell_type": "markdown",
   "metadata": {},
   "source": [
    "美国亚利桑那州的⽐马印第安⼈患糖尿病概率极⾼。WHO为此调查了21岁以上\n",
    "的⼥性患者，并记录了以下信息：\n",
    "1. 怀孕了⼏次\n",
    "2. ⾎糖\n",
    "3. ⾎压\n",
    "4. ⽪脂厚度\n",
    "5. 胰岛素\n",
    "6. 体质指数\n",
    "7. 糖尿病⾎统\n",
    "8. 年龄\n",
    "9. label：是否患病"
   ]
  },
  {
   "cell_type": "code",
   "execution_count": null,
   "metadata": {},
   "outputs": [],
   "source": [
    "import numpy as np\n",
    "import xgboost\n",
    "from sklearn import cross_validation\n",
    "from sklearn.metrics import accuracy_score\n",
    "\n",
    "import warnings\n",
    "warnings.filterwarnings(\"ignore\")"
   ]
  },
  {
   "cell_type": "code",
   "execution_count": null,
   "metadata": {},
   "outputs": [],
   "source": [
    "#加载数据\n",
    "dataset = np.loadtxt('./pima-indians-diabetes.data', delimiter=\",\")\n",
    "x = dataset[:,0:8]\n",
    "y = dataset[:,8]"
   ]
  },
  {
   "cell_type": "code",
   "execution_count": null,
   "metadata": {},
   "outputs": [],
   "source": [
    "#切分训练集和测试集\n",
    "seed = 7\n",
    "test_size = 0.3\n",
    "x_train,x_test,y_train,y_test = cross_validation.train_test_split(x,y,test_size=test_size,random_state=seed)"
   ]
  },
  {
   "cell_type": "code",
   "execution_count": null,
   "metadata": {},
   "outputs": [],
   "source": [
    "#训练模型\n",
    "model = xgboost.XGBClassifier()\n",
    "\n",
    "model.fit(x_train,y_train)"
   ]
  },
  {
   "cell_type": "code",
   "execution_count": null,
   "metadata": {},
   "outputs": [],
   "source": [
    "#测试\n",
    "predict = model.predict(x_test)"
   ]
  },
  {
   "cell_type": "code",
   "execution_count": null,
   "metadata": {},
   "outputs": [],
   "source": [
    "predictions = [round(value) for value in predict]"
   ]
  },
  {
   "cell_type": "code",
   "execution_count": null,
   "metadata": {},
   "outputs": [],
   "source": [
    "#的分\n",
    "accuracy = accuracy_score(y_test, predictions)\n",
    "print(\"Accuracy: %.2f%%\" % (accuracy * 100.0))"
   ]
  },
  {
   "cell_type": "markdown",
   "metadata": {},
   "source": [
    "### 实战-2 房价预测"
   ]
  },
  {
   "cell_type": "code",
   "execution_count": null,
   "metadata": {},
   "outputs": [],
   "source": []
  }
 ],
 "metadata": {
  "kernelspec": {
   "display_name": "Python 3",
   "language": "python",
   "name": "python3"
  },
  "language_info": {
   "codemirror_mode": {
    "name": "ipython",
    "version": 3
   },
   "file_extension": ".py",
   "mimetype": "text/x-python",
   "name": "python",
   "nbconvert_exporter": "python",
   "pygments_lexer": "ipython3",
   "version": "3.6.8"
  }
 },
 "nbformat": 4,
 "nbformat_minor": 2
}
