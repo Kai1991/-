{
 "cells": [
  {
   "cell_type": "markdown",
   "metadata": {},
   "source": [
    "### 摘要\n",
    "\n",
    "* 1.XGBoost参数含义\n",
    "* 2.XGBoost调参技巧\n",
    "* -----------------\n",
    "* 3.LightGBM参数含义\n",
    "* 4.LightGBM调参技巧"
   ]
  },
  {
   "cell_type": "markdown",
   "metadata": {},
   "source": [
    "### 1.XGBoost参数含义\n",
    "\n",
    "* 1.1 XGBoost的参数可以分成三大类：\n",
    "    * 通用宏观参数\n",
    "    * Boost参数，用来控制每一步boost\n",
    "    * x学习目标参数，控制训练目标的表现\n",
    "    \n",
    "* 1.2 通用参数：\n",
    "    * booster（默认 gbtree）\n",
    "        * gbtree\n",
    "        * gbline ,这个几乎不是用\n",
    "    * silent（默认0）,是否打印日志\n",
    "    * nthread 线程数\n",
    "    \n",
    "* 1.3  booster参数\n",
    "\n",
    "    * eta（默认0.3）学习率\n",
    "    * min_child_weight（默认1）最小叶子节点权重和，用来避免过拟合，过大会欠拟合\n",
    "    * max_depth（默认6）单颗数的深度\n",
    "    * max_leaf_nodes： 单颗数的最大叶子数，和max_depth有相似功能\n",
    "    * gamma（默认0）： 在节点分裂是，只要分裂后损失函数的值下降了，才会分裂。gama指定了这个下降值\n",
    "    * subsample(默认1): 控制每棵树，司机采样的比例\n",
    "    * colsample_bytree(默认1)：没课数使用特征的比例\n",
    "    * lambda（默认1):权重的L2正则化\n",
    "    * alpha(默认1):权重的L1正则化项\n",
    "    * scale_pos_weight(默认1）：在各类别样本十分不平衡时，把这个参数设定为一个正值，可以使算法更快收敛\n",
    "    \n",
    "* 1.4 学习目标参数\n",
    "    * objective(默认reg:linear) ,binary:logistic 二分类，multi:softmax 多分类\n",
    "    * eval_metric \n",
    "        * rmse \n",
    "        * mae \n",
    "        * logloss \n",
    "        * error \n",
    "        * merror \n",
    "        * mlogloss \n",
    "        * auc \n",
    "        \n",
    "    * seed 种子"
   ]
  },
  {
   "cell_type": "markdown",
   "metadata": {},
   "source": [
    "### 2.XGBoost调参技巧\n",
    "\n",
    "* 1.首先使用较高的学习率 比如：0.1 。使用大的学习率快速学习\n",
    "* 2.对max_depth, min_child_weight, gamma, subsample, colsample_bytree 进行调参\n",
    "* 3.正则化参数参数调优\n",
    "* 4.降低学习率 进一步调优"
   ]
  },
  {
   "cell_type": "markdown",
   "metadata": {},
   "source": [
    "### 3.LightGBM参数含义"
   ]
  },
  {
   "cell_type": "code",
   "execution_count": null,
   "metadata": {},
   "outputs": [],
   "source": []
  },
  {
   "cell_type": "markdown",
   "metadata": {},
   "source": [
    "###  4.LightGBM调参技巧"
   ]
  },
  {
   "cell_type": "code",
   "execution_count": null,
   "metadata": {},
   "outputs": [],
   "source": []
  }
 ],
 "metadata": {
  "kernelspec": {
   "display_name": "Python 3",
   "language": "python",
   "name": "python3"
  },
  "language_info": {
   "codemirror_mode": {
    "name": "ipython",
    "version": 3
   },
   "file_extension": ".py",
   "mimetype": "text/x-python",
   "name": "python",
   "nbconvert_exporter": "python",
   "pygments_lexer": "ipython3",
   "version": "3.6.8"
  }
 },
 "nbformat": 4,
 "nbformat_minor": 2
}
