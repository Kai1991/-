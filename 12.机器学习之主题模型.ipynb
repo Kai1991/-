{
 "cells": [
  {
   "cell_type": "markdown",
   "metadata": {},
   "source": [
    "### 大纲\n",
    "\n",
    "* 主题模型理论\n",
    "\n",
    "    * 直观理解\n",
    "    * 标准\n",
    "    * 公式推导\n",
    "\n",
    "* 主题模型实战"
   ]
  },
  {
   "cell_type": "markdown",
   "metadata": {},
   "source": [
    "### 主题模型理论\n",
    "\n",
    "* 单词 -> 文档 -> 主题\n",
    "\n",
    "* LDA(Latent Dirichlet Allocation): 一种无监督的贝叶斯模型（主题模型）。\n",
    "\n",
    "* 贝叶斯公式： $ P(\\theta | y) = { p(\\theta y) \\over p(y)} = { p(y | \\theta) p(\\theta) \\over p(y) } $\n",
    "\n",
    "* $ p(单词 | 文档) = p(单词|主题) p(主题|文档) $\n",
    "\n",
    "* LDA生成过程：\n",
    "\n",
    "    * 1.对每一篇文档，从主题分布中抽取一个主题\n",
    "    * 2.从上述被抽到的主题所对应的单词分布中抽取一个单词\n",
    "    * 3.重复上述过程，知道便利文档中的每个单词\n",
    "\n",
    "* 共轭分布/共轭先验： 后验概率和先验概率 有相似度额概率分布公式 则称之为共轭分布\n",
    "    * 后验概率 = 似然函数 * 先验概率\n",
    "    \n",
    "    * Gamma函数：\n",
    "    \n",
    "    * 二项分布：\n",
    "    \n",
    "    * 多项式分布：\n",
    "    \n",
    "    * Beta分布： \n",
    "    \n",
    "    * Dirichlet分布：\n",
    "    \n",
    "* 模型分类\n",
    "\n",
    "    * Unigram model : 只考虑单词\n",
    "        * $ p(w) = \\prod p(w_n) $\n",
    "        \n",
    "    * Mixture of Unigram mode: 加入主题\n",
    "        * $ p(w) = \\sum_z p(z) \\prod p(w_n|z)  $\n",
    "        \n",
    "    * PLSA： 主题之间有轻重\n",
    "    \n",
    "    * LDA： \n",
    "    \n",
    "\n"
   ]
  },
  {
   "cell_type": "markdown",
   "metadata": {},
   "source": [
    "### LDA实战"
   ]
  },
  {
   "cell_type": "code",
   "execution_count": null,
   "metadata": {},
   "outputs": [],
   "source": []
  }
 ],
 "metadata": {
  "kernelspec": {
   "display_name": "Python 3",
   "language": "python",
   "name": "python3"
  },
  "language_info": {
   "codemirror_mode": {
    "name": "ipython",
    "version": 3
   },
   "file_extension": ".py",
   "mimetype": "text/x-python",
   "name": "python",
   "nbconvert_exporter": "python",
   "pygments_lexer": "ipython3",
   "version": "3.6.5"
  }
 },
 "nbformat": 4,
 "nbformat_minor": 2
}
