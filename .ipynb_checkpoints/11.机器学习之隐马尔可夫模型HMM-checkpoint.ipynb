{
 "cells": [
  {
   "cell_type": "markdown",
   "metadata": {},
   "source": [
    "### 大纲\n",
    "\n",
    "* 特殊的概率图模型之隐马尔可夫模型（HMM）\n",
    "    \n",
    "    * 推导\n",
    "\n",
    "\n",
    "* 特殊的概率图模型之朴素贝叶斯\n",
    "\n",
    "    * 推导\n"
   ]
  },
  {
   "cell_type": "markdown",
   "metadata": {},
   "source": [
    "### 特殊的概率图模型之隐马尔可夫模型（HMM）\n",
    "\n",
    "* 特点 是贝叶斯网络的简化版本，引入时序 的 动态模型。\n",
    "\n",
    "* 经典问题 \n",
    "    * 知道全概率公式：$ P(X_1,....X_n,Y_1,...Y_n) $  计算 $ P（X_t|Y_{1:t}）= P(X_t|Y_1,...Y_t)$\n",
    "    \n",
    "        * 解决方案是：\n",
    "            * 预测：($P(A|C) = \\sum^BP(AB|C)$ , $ P(AB|C) = P(A|BC)P(B|C) $)\n",
    "                首先预测 $ P(X_t|Y_{1:t-1}) $, $ P(X_t|Y_{1:t-1}) = \\sum^{X_{t-1}} P(X_t,X_{t-1}|Y_{1:t-1}) = \\sum P(X_t| X_{t-1},Y_{1:t-1}) P(X_{t-1}|Y_{1:t-1}) = \\sum P(X_t|X_{t-1})P(X_{t-1}|Y_{1:t-1})$\n",
    "            \n",
    "            * 贝叶斯更新：(三元的贝叶斯公式：$ P(A|BC) = { P(ABC) \\over P(BC)} = { P(B|AC) P(A|C)  \\over P(B|C)} $)\n",
    "                * $Y_t$ 确定，需要更新$ P(X_t|Y_{1:t}) $.  $ P(X_t|Y_{1:t-1})  = P(X_t|Y_t,T_{t-1}) = { P(Y_t|X_t,Y_{t-1}) P(X_t | T_{1:t-1}) \\over \\sum^{X_t}P(Y_t| X_t,Y_{1:t-1}) P(X_t|T_{1:t-1}) } = { P(Y_t|X_t) P(X_t|Y_{1:t-1}) \\over \\sum P(Y_t|X_t)P(X_t|Y_{1:t-1}) }$\n",
    "                \n",
    "                \n",
    "                "
   ]
  },
  {
   "cell_type": "markdown",
   "metadata": {},
   "source": [
    "### 特殊的概率图模型之朴素贝叶斯\n",
    "\n",
    "* 朴素贝叶斯全概率分布： \n",
    "\n",
    "* 目标函数： "
   ]
  },
  {
   "cell_type": "code",
   "execution_count": null,
   "metadata": {},
   "outputs": [],
   "source": []
  }
 ],
 "metadata": {
  "kernelspec": {
   "display_name": "Python 3",
   "language": "python",
   "name": "python3"
  },
  "language_info": {
   "codemirror_mode": {
    "name": "ipython",
    "version": 3
   },
   "file_extension": ".py",
   "mimetype": "text/x-python",
   "name": "python",
   "nbconvert_exporter": "python",
   "pygments_lexer": "ipython3",
   "version": "3.6.5"
  }
 },
 "nbformat": 4,
 "nbformat_minor": 2
}
