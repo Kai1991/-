{
 "cells": [
  {
   "cell_type": "markdown",
   "metadata": {},
   "source": [
    "### 概要\n",
    "\n",
    "* 1.凸集合和凸函数\n",
    "    * 凸集合和凸函数的关系\n",
    "    * 琴生不等式\n",
    "* 2.优化和凸优化问题\n",
    "    * 凸优化问题\n",
    "    * 对偶问题 对偶性\n",
    "    * KKT条件\n",
    "    * 拉格朗日乘法"
   ]
  },
  {
   "cell_type": "markdown",
   "metadata": {},
   "source": [
    "#### 1.凸集合和凸函数"
   ]
  },
  {
   "cell_type": "markdown",
   "metadata": {},
   "source": [
    "* 凸集合 ： 集合内任意两点之间的连线上的点都在集合内的集合是凸集合\n",
    "* 凸函数 ： 如果函数的定义域是凸函数，并且函数上的任意两点有一下规则\n",
    "    * f(x + y) <= (f(x) + f(y))/2\n",
    "    \n",
    "* 凸函数与凸集的关系： 凸函数的上镜图为凸集合\n",
    "\n",
    "* 琴生不等式：（由凸函数性质可得）如果函数是凸函数，则有一下性质：\n",
    "\n",
    "    *  $\\sum w_if(x) >= f(\\sum w_i x)$"
   ]
  },
  {
   "cell_type": "markdown",
   "metadata": {},
   "source": [
    "##### 2.凸优化问题\n",
    "\n",
    "* 凸优化的一般形式，如下：\n",
    "    * 目标 $ f_0(x)$\n",
    "    * 条件 $ f_i(x) <= b_i  i = 1,...,n$\n",
    "* 条件里的不等式有一下限制：\n",
    "    * $ f_0,f_1,...f_n $函数都是凸函数\n",
    "    * 凸优化问题，局部极小值就是全局最小值\n",
    "    * 凸优化问题有现成的工具求解\n",
    "    \n",
    "#### 2.1凸优化问题的对偶问题\n",
    "\n",
    "* 问题定义：\n",
    "    * 目标 最小化 $ f_0(x)$\n",
    "    * 不等式条件 $ f_i(x) <= b_i  i = 1,...,n$\n",
    "    * 等式条件 $ h_i(x) = 0  i = 1,...,n$\n",
    "* 定义拉格朗日量：\n",
    "    * $ L(x,\\lambda,v) = f(x_0) + \\sum \\lambda f_i(x) + \\sum vh_i(x)$\n",
    "* 根据拉格朗日函数定义拉格朗日对偶函数：\n",
    "    * $ g(\\lambda,v) =  $"
   ]
  },
  {
   "cell_type": "code",
   "execution_count": null,
   "metadata": {},
   "outputs": [],
   "source": []
  }
 ],
 "metadata": {
  "kernelspec": {
   "display_name": "Python 3",
   "language": "python",
   "name": "python3"
  },
  "language_info": {
   "codemirror_mode": {
    "name": "ipython",
    "version": 3
   },
   "file_extension": ".py",
   "mimetype": "text/x-python",
   "name": "python",
   "nbconvert_exporter": "python",
   "pygments_lexer": "ipython3",
   "version": "3.6.8"
  }
 },
 "nbformat": 4,
 "nbformat_minor": 2
}
