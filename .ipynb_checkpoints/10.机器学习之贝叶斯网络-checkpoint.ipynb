{
 "cells": [
  {
   "cell_type": "markdown",
   "metadata": {},
   "source": [
    "### 概要\n",
    "\n",
    "* 贝叶斯原理以及应用\n",
    "\n",
    "* 图模型（贝叶斯网络）原理以及使用（概率推断）"
   ]
  },
  {
   "cell_type": "markdown",
   "metadata": {},
   "source": [
    "###  贝叶斯原理以及应用\n",
    "\n",
    "* 贝叶斯公式： $ P(A|B) = { P(B|A) P(A) \\over P(B) }$\n",
    "\n",
    "\n",
    "* 贝叶斯应应用：三开门问题（给你三个门，其中一个有奖，你先选一个，然后主次人，开一个没有奖的门，问你换不换门）\n",
    "        * 可解决方案：\n"
   ]
  },
  {
   "cell_type": "markdown",
   "metadata": {},
   "source": [
    "### 贝叶斯网络\n",
    "\n",
    "* 本质： 计算每个维度的联合分布 （计算 $P(A,B,C,D,E)$）。以高效的方法求联合分布\n",
    "\n",
    "* 使用有向无环图表示元素之间关系 ，来存储 特征之间的联合分布：\n",
    "\n",
    "    * $P(A,B,C,D,E) = 每个图节点（使用条件概率表示每个节点，以来的节点为条件） 的乘机$\n",
    "    \n",
    "* 应用：\n",
    "    * 知道  $P(A,B,C,D,E) $  如何计算 $P(A|CE) $？\n",
    "    * 方案：对不需要的特征进行积分，积掉，比如： $ P(A=1) = \\sum^B\\sum^C\\sum^D\\sum^E P(A=1,B,C,D,E)  = 再写成 概率图的表达形式$\n",
    "    * $ P（A=1|E=1）=  { P(A=1,E=1) \\over P(E=1)}$\n",
    "    * 上面方案的缺点：\n",
    "        * 连乘精度下降，使用 log 处理\n",
    "        * 动态规划处理暴力for循环"
   ]
  },
  {
   "cell_type": "code",
   "execution_count": null,
   "metadata": {},
   "outputs": [],
   "source": []
  }
 ],
 "metadata": {
  "kernelspec": {
   "display_name": "Python 3",
   "language": "python",
   "name": "python3"
  },
  "language_info": {
   "codemirror_mode": {
    "name": "ipython",
    "version": 3
   },
   "file_extension": ".py",
   "mimetype": "text/x-python",
   "name": "python",
   "nbconvert_exporter": "python",
   "pygments_lexer": "ipython3",
   "version": "3.6.5"
  }
 },
 "nbformat": 4,
 "nbformat_minor": 2
}
