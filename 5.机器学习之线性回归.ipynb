{
 "cells": [
  {
   "cell_type": "markdown",
   "metadata": {},
   "source": [
    "### 大纲\n",
    "\n",
    "* 线性回归\n",
    "    * 定义与问题引入\n",
    "    * 损失函数\n",
    "    * 梯度下降\n",
    "    * 过拟合与正则化\n",
    "* 逻辑回归\n",
    "    * 定义与问题引入\n",
    "    * 梯度下降与正则化"
   ]
  },
  {
   "cell_type": "markdown",
   "metadata": {},
   "source": [
    "### 线性回归"
   ]
  },
  {
   "cell_type": "markdown",
   "metadata": {},
   "source": [
    "#### 线性回归的损失函数\n",
    "\n",
    "* 平方损失 = $ { 1 \\over n } \\sum (h(x_i) - y_i)$\n",
    "* log损失 =  \n",
    "\n",
    "* 注：损失函数/目标函数是凸函数， 所以可以进行凸优化。\n",
    "\n",
    "##### 梯度下降\n",
    "\n",
    "* 逐步最小化损失函数的过程\n",
    " \n",
    "* $ \\theta_n =   \\theta_{n -1} - \\eta \\nabla $\n",
    "\n",
    "#### 过拟合与正则化\n",
    "\n",
    "* 欠拟合： 一般是模型的学习能力不够，这个问题好解决，使用更高级的模型\n",
    "\n",
    "* 过拟合： 模型的学习能力太强，但是对于新的数据的预测能力不强。\n",
    "    * 解决方法：\n",
    "        * L1 正则化\n",
    "        * L2 正则化\n",
    "        * dropout\n",
    "        * 增加数据\n",
    "        \n",
    "* 正则化\n",
    "    * 控制参数的幅度空间，不让模型“无法无天”\n",
    "    * 限制参数搜素空间\n",
    "    * 给参数加个先验分布"
   ]
  },
  {
   "cell_type": "markdown",
   "metadata": {},
   "source": [
    "### 逻辑回归"
   ]
  },
  {
   "cell_type": "markdown",
   "metadata": {},
   "source": [
    "* 逻辑回归： 线性回归 + 阀值\n",
    "\n",
    "* sigmoid函数： $y = {1 \\over 1 + e^x}$\n",
    "\n",
    "* 目标函数：\n",
    "    * 首先，不能用平方损失函数， 因为 次函数部署凸函数，没法优化\n",
    "    * log损失： $cost(h(x),y) =  \\begin{cases} -log(h(x)) & \\text{if y=1} \\\\ -log(1-h(x)) & \\text{if y=0} \\end{cases} $\n",
    "    * 统一形式的log损失： $cost(h(x),y) = -{1 \\over m}( \\sum { y_i log(h(x_i)) + (1-y_i)log(1-h(x_i)) })$  解释：如果y=1 后面的一项没有了，如果y=0 前面的一项没有了"
   ]
  },
  {
   "cell_type": "code",
   "execution_count": null,
   "metadata": {},
   "outputs": [],
   "source": []
  }
 ],
 "metadata": {
  "kernelspec": {
   "display_name": "Python 3",
   "language": "python",
   "name": "python3"
  },
  "language_info": {
   "codemirror_mode": {
    "name": "ipython",
    "version": 3
   },
   "file_extension": ".py",
   "mimetype": "text/x-python",
   "name": "python",
   "nbconvert_exporter": "python",
   "pygments_lexer": "ipython3",
   "version": "3.6.8"
  }
 },
 "nbformat": 4,
 "nbformat_minor": 2
}
