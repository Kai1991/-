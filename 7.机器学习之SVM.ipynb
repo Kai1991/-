{
 "cells": [
  {
   "cell_type": "markdown",
   "metadata": {},
   "source": [
    "### 概要\n",
    "\n",
    "* 1.SVM推导\n",
    "\n",
    "* 2.SVM推导优秀博客推荐"
   ]
  },
  {
   "cell_type": "markdown",
   "metadata": {},
   "source": [
    "### SVM推导\n",
    "\n",
    "* 目标：最大化间隔\n",
    "![](http://i2.wp.com/www.svm-tutorial.com/wp-content/uploads/2015/06/svm_margin_demonstration_7.png)"
   ]
  },
  {
   "cell_type": "markdown",
   "metadata": {},
   "source": [
    "* key1: \n",
    "    * 分割线左边的点满足： W*X + b >= 0\n",
    "    * 分割线右边的点满足： W*X + b <= 0\n",
    "        \n",
    "* key1 转化后：\n",
    "    * 分割线左边的点满足： W*X + b >= 1\n",
    "    * 分割线右边的点满足： W*X + b <= -1\n",
    "    \n",
    "* 两边同时乘y可得：\n",
    "    * y(W*x + b) >=1\n",
    "    \n",
    "* key2:\n",
    "    * y(W*x +b) - 1 >= 0    y(W*x +b) - 1 = 0处的x是站街向量\n",
    "    \n",
    "* $with = (x_- - x_+)* {W \\over |W|}$\n",
    "\n",
    "* 由key1可得： $with = {2 \\over |W|}$\n",
    "\n",
    "* 所以目标是：\n",
    "    * 最大化 $with = {2 \\over |W|}$  则 最小化 |W| 为了好计算  可以转化目标： 最小化 ： $ {1 \\over 2}|W|^2$\n",
    "    * 条件：Y(W*X +b) - 1 >= 0 \n",
    "    \n",
    "* 由拉格朗日可得，切优化目标，可以转化成下面的目标：\n",
    "    * 最大化：$ L = {1 \\over 2}|W|^2 - \\sum \\lambda_i (Y_i(W*X_i +b) - 1) $\n",
    "    \n",
    "* 对上式的W和b求偏导可得：\n",
    "    * $ { \\partial L \\over W} = W - \\sum \\lambda_i Y_iW*X_i = 0 $ 所以 $ W = \\sum \\lambda_i Y_iW*X_i $ \n",
    "    * $ { \\partial L \\over b} = \\sum \\lambda_i Y_i = 0 $ 所以 $ \\sum \\lambda_i Y_i = 0 $ \n",
    "    \n",
    "* key3 将偏导数等于0带入L方程可得：\n",
    "    *  \\begin{align}  L &= {1 \\over 2} \\sum \\lambda_i Y_iX_i \\sum \\lambda_j Y_jX_j - \\sum \\lambda_i Y_i\\sum \\lambda_j Y_jWX_jX_i + \\sum \\lambda_i Y_ib + \\sum \\lambda_i \\\\&=  \\sum \\lambda_i - {1 \\over 2} \\sum \\sum  \\lambda_i\\lambda_j Y_iY_jX_iX_j \\end{align} \n",
    "    \n",
    "* ke3 的总结：\n",
    "    L的大小有 $ X_iX_j $ 內积决定，引入核方法"
   ]
  },
  {
   "cell_type": "markdown",
   "metadata": {},
   "source": [
    "### SVM推导优秀博客推荐\n",
    "\n",
    "* 博客一 间隔 [https://blog.csdn.net/han_xiaoyang/article/details/52678373]（）\n",
    "\n",
    "* 博客二 SVM中的向量与空间距离 （https://blog.csdn.net/han_xiaoyang/article/details/52679559）\n",
    "\n",
    "* 博客三 如何找到最优分离超平面 （https://blog.csdn.net/han_xiaoyang/article/details/52683653）\n",
    "\n",
    "* 博客四 无约束最小化问题 （https://blog.csdn.net/han_xiaoyang/article/details/79079540）\n",
    "\n",
    "* 博客五 凸函数与优化（https://blog.csdn.net/han_xiaoyang/article/details/79080100）\n",
    "\n",
    "* 博客六 对偶和拉格朗日乘子 （https://blog.csdn.net/han_xiaoyang/article/details/79080123）"
   ]
  },
  {
   "cell_type": "code",
   "execution_count": null,
   "metadata": {},
   "outputs": [],
   "source": []
  }
 ],
 "metadata": {
  "kernelspec": {
   "display_name": "Python 3",
   "language": "python",
   "name": "python3"
  },
  "language_info": {
   "codemirror_mode": {
    "name": "ipython",
    "version": 3
   },
   "file_extension": ".py",
   "mimetype": "text/x-python",
   "name": "python",
   "nbconvert_exporter": "python",
   "pygments_lexer": "ipython3",
   "version": "3.6.8"
  }
 },
 "nbformat": 4,
 "nbformat_minor": 2
}
